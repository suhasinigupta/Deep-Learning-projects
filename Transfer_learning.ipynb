{
  "nbformat": 4,
  "nbformat_minor": 0,
  "metadata": {
    "colab": {
      "provenance": []
    },
    "kernelspec": {
      "name": "python3",
      "display_name": "Python 3"
    },
    "language_info": {
      "name": "python"
    },
    "accelerator": "GPU",
    "gpuClass": "standard"
  },
  "cells": [
    {
      "cell_type": "markdown",
      "source": [
        "TRANSFER LEARNING -> with this approach we can use existing model (weights and bias) to train new model\n",
        "\n",
        "BASE_MODEL -> Model to identify digits\n",
        "\n",
        "NEW_MODEL -> Model to classify digits as even or odd\n",
        "                       \n",
        "\n",
        "   "
      ],
      "metadata": {
        "id": "nKDE1NI6UX0Z"
      }
    },
    {
      "cell_type": "markdown",
      "source": [
        "Building the base model (model to identify digits)"
      ],
      "metadata": {
        "id": "lpwpEiPgfKTg"
      }
    },
    {
      "cell_type": "code",
      "source": [
        "## import req libraries\n",
        "import numpy as np\n",
        "import pandas as pd\n",
        "import matplotlib.pyplot as plt\n",
        "import seaborn as sns\n",
        "import tensorflow as tf"
      ],
      "metadata": {
        "id": "zqxvjAzAUhNN"
      },
      "execution_count": 24,
      "outputs": []
    },
    {
      "cell_type": "code",
      "source": [
        "## loading dataset\n",
        "mnist= tf.keras.datasets.mnist\n",
        "(X_train_full, Y_train_full), (X_test, Y_test)= mnist.load_data()"
      ],
      "metadata": {
        "id": "F8G03NWFVfbh"
      },
      "execution_count": 25,
      "outputs": []
    },
    {
      "cell_type": "code",
      "source": [
        "X_train_full.shape, Y_train_full.shape"
      ],
      "metadata": {
        "colab": {
          "base_uri": "https://localhost:8080/"
        },
        "id": "iRz7CssOV7Jw",
        "outputId": "38e587c2-c363-45b4-c1ee-180134cca741"
      },
      "execution_count": 26,
      "outputs": [
        {
          "output_type": "execute_result",
          "data": {
            "text/plain": [
              "((60000, 28, 28), (60000,))"
            ]
          },
          "metadata": {},
          "execution_count": 26
        }
      ]
    },
    {
      "cell_type": "code",
      "source": [
        "X_valid, X_train=X_train_full[0:6000]/255. ,X_train_full[6000:]/255.\n",
        "Y_valid, Y_train=Y_train_full[0:6000],Y_train_full[6000:]\n",
        "X_test= X_test/255.\n",
        "\n",
        "validation_set= (X_valid, Y_valid)"
      ],
      "metadata": {
        "id": "-L3AmuVMchW3"
      },
      "execution_count": 27,
      "outputs": []
    },
    {
      "cell_type": "code",
      "source": [
        "## building base model\n",
        "LAYERS= [tf.keras.layers.Flatten(input_shape=[28,28], name=\"Input_Layer\"),\n",
        "         tf.keras.layers.Dense(350, activation=\"relu\", kernel_initializer=\"he_uniform\", name=\"Hidden_Layer_1\"),\n",
        "         tf.keras.layers.Dense(75, activation=\"relu\", kernel_initializer=\"he_uniform\", name=\"Hidden_Layer_2\"),\n",
        "         tf.keras.layers.Dense(10, activation=\"softmax\", kernel_initializer=\"glorot_uniform\", name=\"Output_Layer\") ]\n",
        "\n",
        "base_model= tf.keras.models.Sequential(LAYERS)\n",
        "\n",
        "base_model.compile(loss=\"sparse_categorical_crossentropy\", optimizer=\"SGD\", metrics=\"accuracy\")\n",
        "\n",
        "base_model.fit(X_train,Y_train, validation_data=validation_set, epochs=30)\n"
      ],
      "metadata": {
        "id": "0CwJwGdsWNsO",
        "colab": {
          "base_uri": "https://localhost:8080/"
        },
        "outputId": "db45423a-dd34-4ee0-9263-e8ad6896f83a"
      },
      "execution_count": 28,
      "outputs": [
        {
          "output_type": "stream",
          "name": "stdout",
          "text": [
            "Epoch 1/30\n",
            "1688/1688 [==============================] - 5s 3ms/step - loss: 0.5803 - accuracy: 0.8472 - val_loss: 0.3011 - val_accuracy: 0.9178\n",
            "Epoch 2/30\n",
            "1688/1688 [==============================] - 5s 3ms/step - loss: 0.2806 - accuracy: 0.9201 - val_loss: 0.2320 - val_accuracy: 0.9350\n",
            "Epoch 3/30\n",
            "1688/1688 [==============================] - 4s 3ms/step - loss: 0.2286 - accuracy: 0.9344 - val_loss: 0.2007 - val_accuracy: 0.9442\n",
            "Epoch 4/30\n",
            "1688/1688 [==============================] - 4s 3ms/step - loss: 0.1950 - accuracy: 0.9444 - val_loss: 0.1761 - val_accuracy: 0.9502\n",
            "Epoch 5/30\n",
            "1688/1688 [==============================] - 4s 3ms/step - loss: 0.1703 - accuracy: 0.9502 - val_loss: 0.1557 - val_accuracy: 0.9540\n",
            "Epoch 6/30\n",
            "1688/1688 [==============================] - 5s 3ms/step - loss: 0.1502 - accuracy: 0.9571 - val_loss: 0.1427 - val_accuracy: 0.9588\n",
            "Epoch 7/30\n",
            "1688/1688 [==============================] - 5s 3ms/step - loss: 0.1345 - accuracy: 0.9615 - val_loss: 0.1328 - val_accuracy: 0.9602\n",
            "Epoch 8/30\n",
            "1688/1688 [==============================] - 5s 3ms/step - loss: 0.1214 - accuracy: 0.9654 - val_loss: 0.1224 - val_accuracy: 0.9628\n",
            "Epoch 9/30\n",
            "1688/1688 [==============================] - 4s 3ms/step - loss: 0.1102 - accuracy: 0.9682 - val_loss: 0.1162 - val_accuracy: 0.9648\n",
            "Epoch 10/30\n",
            "1688/1688 [==============================] - 5s 3ms/step - loss: 0.1008 - accuracy: 0.9714 - val_loss: 0.1085 - val_accuracy: 0.9677\n",
            "Epoch 11/30\n",
            "1688/1688 [==============================] - 5s 3ms/step - loss: 0.0925 - accuracy: 0.9741 - val_loss: 0.1046 - val_accuracy: 0.9692\n",
            "Epoch 12/30\n",
            "1688/1688 [==============================] - 5s 3ms/step - loss: 0.0854 - accuracy: 0.9761 - val_loss: 0.0995 - val_accuracy: 0.9705\n",
            "Epoch 13/30\n",
            "1688/1688 [==============================] - 4s 3ms/step - loss: 0.0790 - accuracy: 0.9782 - val_loss: 0.0985 - val_accuracy: 0.9703\n",
            "Epoch 14/30\n",
            "1688/1688 [==============================] - 5s 3ms/step - loss: 0.0734 - accuracy: 0.9794 - val_loss: 0.0939 - val_accuracy: 0.9730\n",
            "Epoch 15/30\n",
            "1688/1688 [==============================] - 4s 3ms/step - loss: 0.0681 - accuracy: 0.9819 - val_loss: 0.0932 - val_accuracy: 0.9723\n",
            "Epoch 16/30\n",
            "1688/1688 [==============================] - 4s 3ms/step - loss: 0.0638 - accuracy: 0.9823 - val_loss: 0.0882 - val_accuracy: 0.9737\n",
            "Epoch 17/30\n",
            "1688/1688 [==============================] - 4s 3ms/step - loss: 0.0594 - accuracy: 0.9837 - val_loss: 0.0846 - val_accuracy: 0.9753\n",
            "Epoch 18/30\n",
            "1688/1688 [==============================] - 4s 3ms/step - loss: 0.0556 - accuracy: 0.9851 - val_loss: 0.0838 - val_accuracy: 0.9747\n",
            "Epoch 19/30\n",
            "1688/1688 [==============================] - 5s 3ms/step - loss: 0.0519 - accuracy: 0.9859 - val_loss: 0.0835 - val_accuracy: 0.9745\n",
            "Epoch 20/30\n",
            "1688/1688 [==============================] - 5s 3ms/step - loss: 0.0488 - accuracy: 0.9871 - val_loss: 0.0811 - val_accuracy: 0.9760\n",
            "Epoch 21/30\n",
            "1688/1688 [==============================] - 5s 3ms/step - loss: 0.0457 - accuracy: 0.9879 - val_loss: 0.0786 - val_accuracy: 0.9760\n",
            "Epoch 22/30\n",
            "1688/1688 [==============================] - 5s 3ms/step - loss: 0.0430 - accuracy: 0.9886 - val_loss: 0.0787 - val_accuracy: 0.9762\n",
            "Epoch 23/30\n",
            "1688/1688 [==============================] - 5s 3ms/step - loss: 0.0403 - accuracy: 0.9900 - val_loss: 0.0777 - val_accuracy: 0.9767\n",
            "Epoch 24/30\n",
            "1688/1688 [==============================] - 4s 3ms/step - loss: 0.0379 - accuracy: 0.9905 - val_loss: 0.0790 - val_accuracy: 0.9763\n",
            "Epoch 25/30\n",
            "1688/1688 [==============================] - 5s 3ms/step - loss: 0.0357 - accuracy: 0.9907 - val_loss: 0.0818 - val_accuracy: 0.9755\n",
            "Epoch 26/30\n",
            "1688/1688 [==============================] - 5s 3ms/step - loss: 0.0336 - accuracy: 0.9920 - val_loss: 0.0751 - val_accuracy: 0.9768\n",
            "Epoch 27/30\n",
            "1688/1688 [==============================] - 5s 3ms/step - loss: 0.0315 - accuracy: 0.9924 - val_loss: 0.0765 - val_accuracy: 0.9768\n",
            "Epoch 28/30\n",
            "1688/1688 [==============================] - 5s 3ms/step - loss: 0.0298 - accuracy: 0.9932 - val_loss: 0.0766 - val_accuracy: 0.9775\n",
            "Epoch 29/30\n",
            "1688/1688 [==============================] - 5s 3ms/step - loss: 0.0280 - accuracy: 0.9940 - val_loss: 0.0743 - val_accuracy: 0.9783\n",
            "Epoch 30/30\n",
            "1688/1688 [==============================] - 4s 3ms/step - loss: 0.0263 - accuracy: 0.9944 - val_loss: 0.0755 - val_accuracy: 0.9765\n"
          ]
        },
        {
          "output_type": "execute_result",
          "data": {
            "text/plain": [
              "<keras.callbacks.History at 0x7f84e25fd040>"
            ]
          },
          "metadata": {},
          "execution_count": 28
        }
      ]
    },
    {
      "cell_type": "code",
      "source": [
        "## evaluating and saving the model\n",
        "base_model.evaluate(X_test, Y_test)\n",
        "base_model.save(\"base_model.h5\")"
      ],
      "metadata": {
        "colab": {
          "base_uri": "https://localhost:8080/"
        },
        "id": "qQ0Uuu6vdb87",
        "outputId": "b0b062bc-edcf-4aad-a9fd-b553e70bc973"
      },
      "execution_count": 29,
      "outputs": [
        {
          "output_type": "stream",
          "name": "stdout",
          "text": [
            "313/313 [==============================] - 1s 2ms/step - loss: 0.0717 - accuracy: 0.9783\n"
          ]
        }
      ]
    },
    {
      "cell_type": "markdown",
      "source": [
        "Building new model (using base model)"
      ],
      "metadata": {
        "id": "DmXQ1oG8fT01"
      }
    },
    {
      "cell_type": "code",
      "source": [
        "## loading base model\n",
        "model= tf.keras.models.load_model(\"base_model.h5\")"
      ],
      "metadata": {
        "id": "56kYJucwepM2"
      },
      "execution_count": 30,
      "outputs": []
    },
    {
      "cell_type": "code",
      "source": [
        "## changing the layers of base model to non-trainable i.e freezing the weights\n",
        "for layer in model.layers[:-1]:\n",
        "  print(f\"Before freezing {layer.name} : {layer.trainable}\")\n",
        "  layer.trainable=False\n",
        "  print(f\"After freezing {layer.name}: {layer.trainable}\")"
      ],
      "metadata": {
        "colab": {
          "base_uri": "https://localhost:8080/"
        },
        "id": "HhNI9Z0PfrD2",
        "outputId": "59b26a84-1199-4b59-afe0-bd438fefa854"
      },
      "execution_count": 31,
      "outputs": [
        {
          "output_type": "stream",
          "name": "stdout",
          "text": [
            "Before freezing Input_Layer : True\n",
            "After freezing Input_Layer: False\n",
            "Before freezing Hidden_Layer_1 : True\n",
            "After freezing Hidden_Layer_1: False\n",
            "Before freezing Hidden_Layer_2 : True\n",
            "After freezing Hidden_Layer_2: False\n"
          ]
        }
      ]
    },
    {
      "cell_type": "code",
      "source": [
        "def even_odd(input_array):\n",
        "  return np.where(input_array%2==0, 1,0) ## 1 for even 0 for odd\n",
        "\n",
        "Y_train=even_odd(Y_train)\n",
        "Y_valid= even_odd(Y_valid)\n",
        "Y_test=even_odd(Y_test)"
      ],
      "metadata": {
        "id": "oiKXXtGKgl9t"
      },
      "execution_count": 32,
      "outputs": []
    },
    {
      "cell_type": "code",
      "source": [
        "## Building new model:\n",
        "new_model= tf.keras.models.Sequential(model.layers[:-1])  ## using base model layers\n",
        "\n",
        "new_model.add(tf.keras.layers.Dense(2,activation=\"softmax\", name=\"Output_Layer\"))\n",
        "\n",
        "new_model.layers\n",
        "\n",
        "new_model.summary()\n"
      ],
      "metadata": {
        "colab": {
          "base_uri": "https://localhost:8080/"
        },
        "id": "NpMyVF9KhhTu",
        "outputId": "b96c9060-f423-4109-86d8-c7107c1ddb2d"
      },
      "execution_count": 33,
      "outputs": [
        {
          "output_type": "stream",
          "name": "stdout",
          "text": [
            "Model: \"sequential_4\"\n",
            "_________________________________________________________________\n",
            " Layer (type)                Output Shape              Param #   \n",
            "=================================================================\n",
            " Input_Layer (Flatten)       (None, 784)               0         \n",
            "                                                                 \n",
            " Hidden_Layer_1 (Dense)      (None, 350)               274750    \n",
            "                                                                 \n",
            " Hidden_Layer_2 (Dense)      (None, 75)                26325     \n",
            "                                                                 \n",
            " Output_Layer (Dense)        (None, 2)                 152       \n",
            "                                                                 \n",
            "=================================================================\n",
            "Total params: 301,227\n",
            "Trainable params: 152\n",
            "Non-trainable params: 301,075\n",
            "_________________________________________________________________\n"
          ]
        }
      ]
    },
    {
      "cell_type": "code",
      "source": [
        "\n",
        "new_model.compile(loss=\"sparse_categorical_crossentropy\", optimizer=\"SGD\", metrics=\"accuracy\")\n",
        "\n",
        "new_model.fit(X_train,Y_train, validation_data=validation_set, epochs=20)"
      ],
      "metadata": {
        "colab": {
          "base_uri": "https://localhost:8080/"
        },
        "id": "osA3jIg0itaf",
        "outputId": "af76441d-6e6f-4cf9-a06e-97e020552b1a"
      },
      "execution_count": 35,
      "outputs": [
        {
          "output_type": "stream",
          "name": "stdout",
          "text": [
            "Epoch 1/20\n",
            "1688/1688 [==============================] - 4s 2ms/step - loss: 0.0978 - accuracy: 0.9643 - val_loss: nan - val_accuracy: 0.0050\n",
            "Epoch 2/20\n",
            "1688/1688 [==============================] - 4s 2ms/step - loss: 0.0976 - accuracy: 0.9644 - val_loss: nan - val_accuracy: 0.0045\n",
            "Epoch 3/20\n",
            "1688/1688 [==============================] - 4s 3ms/step - loss: 0.0975 - accuracy: 0.9648 - val_loss: nan - val_accuracy: 0.0047\n",
            "Epoch 4/20\n",
            "1688/1688 [==============================] - 4s 2ms/step - loss: 0.0973 - accuracy: 0.9644 - val_loss: nan - val_accuracy: 0.0052\n",
            "Epoch 5/20\n",
            "1688/1688 [==============================] - 4s 2ms/step - loss: 0.0971 - accuracy: 0.9645 - val_loss: nan - val_accuracy: 0.0060\n",
            "Epoch 6/20\n",
            "1688/1688 [==============================] - 4s 2ms/step - loss: 0.0968 - accuracy: 0.9648 - val_loss: nan - val_accuracy: 0.0048\n",
            "Epoch 7/20\n",
            "1688/1688 [==============================] - 4s 3ms/step - loss: 0.0969 - accuracy: 0.9649 - val_loss: nan - val_accuracy: 0.0050\n",
            "Epoch 8/20\n",
            "1688/1688 [==============================] - 4s 2ms/step - loss: 0.0967 - accuracy: 0.9648 - val_loss: nan - val_accuracy: 0.0050\n",
            "Epoch 9/20\n",
            "1688/1688 [==============================] - 4s 2ms/step - loss: 0.0965 - accuracy: 0.9652 - val_loss: nan - val_accuracy: 0.0050\n",
            "Epoch 10/20\n",
            "1688/1688 [==============================] - 4s 3ms/step - loss: 0.0966 - accuracy: 0.9651 - val_loss: nan - val_accuracy: 0.0048\n",
            "Epoch 11/20\n",
            "1688/1688 [==============================] - 4s 2ms/step - loss: 0.0965 - accuracy: 0.9650 - val_loss: nan - val_accuracy: 0.0043\n",
            "Epoch 12/20\n",
            "1688/1688 [==============================] - 4s 3ms/step - loss: 0.0964 - accuracy: 0.9645 - val_loss: nan - val_accuracy: 0.0050\n",
            "Epoch 13/20\n",
            "1688/1688 [==============================] - 4s 2ms/step - loss: 0.0963 - accuracy: 0.9650 - val_loss: nan - val_accuracy: 0.0055\n",
            "Epoch 14/20\n",
            "1688/1688 [==============================] - 4s 2ms/step - loss: 0.0962 - accuracy: 0.9648 - val_loss: nan - val_accuracy: 0.0047\n",
            "Epoch 15/20\n",
            "1688/1688 [==============================] - 4s 2ms/step - loss: 0.0963 - accuracy: 0.9647 - val_loss: nan - val_accuracy: 0.0050\n",
            "Epoch 16/20\n",
            "1688/1688 [==============================] - 4s 2ms/step - loss: 0.0962 - accuracy: 0.9650 - val_loss: nan - val_accuracy: 0.0050\n",
            "Epoch 17/20\n",
            "1688/1688 [==============================] - 4s 2ms/step - loss: 0.0961 - accuracy: 0.9649 - val_loss: nan - val_accuracy: 0.0047\n",
            "Epoch 18/20\n",
            "1688/1688 [==============================] - 4s 3ms/step - loss: 0.0962 - accuracy: 0.9655 - val_loss: nan - val_accuracy: 0.0048\n",
            "Epoch 19/20\n",
            "1688/1688 [==============================] - 4s 2ms/step - loss: 0.0960 - accuracy: 0.9651 - val_loss: nan - val_accuracy: 0.0055\n",
            "Epoch 20/20\n",
            "1688/1688 [==============================] - 4s 2ms/step - loss: 0.0961 - accuracy: 0.9650 - val_loss: nan - val_accuracy: 0.0045\n"
          ]
        },
        {
          "output_type": "execute_result",
          "data": {
            "text/plain": [
              "<keras.callbacks.History at 0x7f84e24f6c10>"
            ]
          },
          "metadata": {},
          "execution_count": 35
        }
      ]
    },
    {
      "cell_type": "code",
      "source": [
        "\n",
        "\n",
        "## evaluating new model \n",
        "new_model.evaluate(X_test, Y_test)"
      ],
      "metadata": {
        "colab": {
          "base_uri": "https://localhost:8080/"
        },
        "id": "HIbxdLrOjKBP",
        "outputId": "dedb4dfd-f47b-4bd3-c2eb-47b0dfda6bab"
      },
      "execution_count": 36,
      "outputs": [
        {
          "output_type": "stream",
          "name": "stdout",
          "text": [
            "313/313 [==============================] - 1s 2ms/step - loss: 0.1096 - accuracy: 0.9596\n"
          ]
        },
        {
          "output_type": "execute_result",
          "data": {
            "text/plain": [
              "[0.10955099761486053, 0.9595999717712402]"
            ]
          },
          "metadata": {},
          "execution_count": 36
        }
      ]
    },
    {
      "cell_type": "code",
      "source": [],
      "metadata": {
        "id": "QXjOJDj1jZgp"
      },
      "execution_count": null,
      "outputs": []
    }
  ]
}